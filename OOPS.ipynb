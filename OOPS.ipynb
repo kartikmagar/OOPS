{
  "cells": [
    {
      "cell_type": "markdown",
      "metadata": {
        "id": "ncGMu3HBZGom"
      },
      "source": [
        "# Assignment Questions"
      ]
    },
    {
      "cell_type": "markdown",
      "metadata": {
        "id": "NhMKR0GbZXIv"
      },
      "source": [
        "### Python (OOPS) Questions"
      ]
    },
    {
      "cell_type": "markdown",
      "metadata": {
        "id": "IM-GwJA6Z3bD"
      },
      "source": [
        "1. What is object-oriented programming (oops)?\n",
        "\n",
        "-> oops is nothing but to map with real world scenarios, here we start using object in code is called as object oriented programming system.\n",
        "\n",
        "2. what is a class in oop?\n",
        "\n",
        "-> a class is a blueprint for creating objects.\n",
        "\n",
        "3. what is an object in oop?\n",
        "\n",
        "-> an object is an instance of a class it represents a specific implementation of the class with actual values.\n",
        "\n",
        "4. what is the difference between abstraction and encapsulation?\n",
        "\n",
        "-> abstraction hides complex implemention details and shows only essential features.\n",
        "encapsulations wrapping data and functions into a single untis (objects)\n",
        "\n",
        "5. what are dunder methods in python?\n",
        "\n",
        "-> dunder(double underscore)method are special methods with name like __init__, __str__, __len__, __classs__\n",
        "these all are inbuit functions.\n",
        "\n",
        "6. Explain the concept of inheritance in oop?\n",
        "\n",
        "-> inheritance is nothing but child receiving the properties of parents class.\n",
        "\n",
        "7. what is polymorphism in oop?\n",
        "\n",
        "-> refers to an object taking several forms depending on the methods/data.\n",
        "\n",
        "8. how is encapsulation achieved in python?\n",
        "\n",
        "-> encapsulation is achieved by using access modifies:\n",
        "public (variable)\n",
        "protected (_variable)\n",
        "private (__variable)\n",
        "\n",
        "9. what is aconstructor in python?\n",
        "\n",
        "-> it is special function all classes have a function called __init__(), which always executed when the object is being initiated.\n",
        "\n",
        "10. what are class and static method in python?\n",
        "\n",
        "-> class method: defined with @staticmethod, doesn't take self or cls and can't access class or instance variables directly.\n",
        "\n",
        "11. what is method overloading in python?\n",
        "\n",
        "-> python doesn't support traditional method overloading however, default arguments and  variable-lenght arguments (*args , **kwargs) can simulate it.\n",
        "\n",
        "12. what is method overriding in oop?\n",
        "\n",
        "-> method overriding allow a subclass to provide a specific implementation of a method that is already defined in its parents class.\n",
        "\n",
        "13. what is a property decorator in python?\n",
        "\n",
        "-> the @property decorator allow a method to be accessed like an attribute, useful for implementing getter functionality.\n",
        "\n",
        "14. why is polymorphism important in oops?\n",
        "\n",
        "-> it allow one interface to be for different data type, improving flexibility and code reusability.\n",
        "\n",
        "15. what is an abstract class in python?\n",
        "\n",
        "-> an abstract class is a class that can't be instantiated and is defined using  abc.ABC it can have abstract method that must be implemented by subclasses.\n",
        "\n",
        "16. what are the advantages of oops?\n",
        "\n",
        "-> reusability via inheritance\n",
        "   improved code organization\n",
        "   encapsulation of data\n",
        "   flexility with polymorphism\n",
        "   easier maintenance\n",
        "\n",
        "17. what is the difference between a class variable and an instance variable?\n",
        "\n",
        "-> class variable: shared among all insatances\n",
        "   instance veriable: unique to each instance\n",
        "\n",
        "18. what is multiple inheritance in python?\n",
        "\n",
        "-> when a class inherits from more than one class exampl:\n",
        "class C(A, B)\n",
        "\n",
        "19. explain the purpose of __str__and__repr__method in python?\n",
        "\n",
        "-> __str__: readable string representation, used by print()\n",
        "   __repr__: unambiguous string representation , used by repre()\n",
        "\n",
        "20. what is the significance of the super()function in python?\n",
        "\n",
        "-> used to call the parent class's methods or constructore,\n",
        "especially in inheritance scenaros.\n",
        "\n",
        "21. what is the significance of the __del__method in python ?\n",
        "\n",
        "-> it's a destructor method called when an object is about\n",
        "to be destroyed, used for cleanup tasks.\n",
        "\n",
        "22. what is the differnce between @staticmethod and @classmethod in python?\n",
        "\n",
        "-> @staticmethod: no access to class or instance.\n",
        "@classmethod: access to the class via cls\n",
        "\n",
        "23. how does polymorphism work in python with inheritance?\n",
        "\n",
        "-> child classes overiide parent class method, and python,and python dynamically decides which method to call at runtime.\n",
        "\n",
        "24. what is method chaining in python oops?\n",
        "\n",
        "-> calling mutiple method on the same object in a single statement achieved by returing self from each method.\n",
        "\n",
        "25. what is the  purpose of the __call__method in python?\n",
        "\n",
        "-> it allows an instance of a class to be called like a function exmple: obj() call obj.__call__().\n"
      ]
    },
    {
      "cell_type": "code",
      "execution_count": null,
      "metadata": {
        "colab": {
          "base_uri": "https://localhost:8080/",
          "height": 193
        },
        "id": "nRPlPF0o3n7S",
        "outputId": "5fc05b81-9481-474e-e78d-fdd2897eb82b"
      },
      "outputs": [
        {
          "ename": "NameError",
          "evalue": "name 'Dog' is not defined",
          "output_type": "error",
          "traceback": [
            "\u001b[0;31m---------------------------------------------------------------------------\u001b[0m",
            "\u001b[0;31mNameError\u001b[0m                                 Traceback (most recent call last)",
            "\u001b[0;32m<ipython-input-8-f127f079af9f>\u001b[0m in \u001b[0;36m<cell line: 0>\u001b[0;34m()\u001b[0m\n\u001b[1;32m      8\u001b[0m         \u001b[0mprint\u001b[0m\u001b[0;34m(\u001b[0m\u001b[0;34m\"brak!!\"\u001b[0m\u001b[0;34m)\u001b[0m\u001b[0;34m\u001b[0m\u001b[0;34m\u001b[0m\u001b[0m\n\u001b[1;32m      9\u001b[0m \u001b[0;34m\u001b[0m\u001b[0m\n\u001b[0;32m---> 10\u001b[0;31m \u001b[0mdog\u001b[0m \u001b[0;34m=\u001b[0m \u001b[0mDog\u001b[0m\u001b[0;34m\u001b[0m\u001b[0;34m\u001b[0m\u001b[0m\n\u001b[0m\u001b[1;32m     11\u001b[0m \u001b[0mdog\u001b[0m\u001b[0;34m.\u001b[0m\u001b[0mspeak\u001b[0m\u001b[0;34m(\u001b[0m\u001b[0;34m)\u001b[0m\u001b[0;34m\u001b[0m\u001b[0;34m\u001b[0m\u001b[0m\n",
            "\u001b[0;31mNameError\u001b[0m: name 'Dog' is not defined"
          ]
        }
      ],
      "source": [
        "# 1.\n",
        "class Animal:\n",
        "    def speak(self):\n",
        "        print(\"some generic animal sound\")\n",
        "\n",
        "class dog(Animal):\n",
        "    def speak(self):\n",
        "        print(\"brak!!\")\n",
        "\n",
        "dog = Dog\n",
        "dog.speak()"
      ]
    },
    {
      "cell_type": "code",
      "execution_count": null,
      "metadata": {
        "colab": {
          "base_uri": "https://localhost:8080/"
        },
        "id": "nMNi2pVYQybF",
        "outputId": "b299dd4e-ca63-4f05-fc69-ecd2fce8e856"
      },
      "outputs": [
        {
          "name": "stdout",
          "output_type": "stream",
          "text": [
            "78.5\n",
            "24\n"
          ]
        }
      ],
      "source": [
        "# 2.\n",
        "from abc import ABC, abstractmethod\n",
        "class Shape(ABC):\n",
        "    @abstractmethod\n",
        "    def area(self):\n",
        "        pass\n",
        "\n",
        "class Circle(Shape):\n",
        "    def __init__(self, radius):\n",
        "        self.radius = radius\n",
        "\n",
        "    def area(self):\n",
        "        return 3.14 * self.radius ** 2\n",
        "\n",
        "class Rectangle(Shape):\n",
        "    def __init__(self, length, width):\n",
        "        self.length = length\n",
        "        self.width = width\n",
        "\n",
        "    def area(self):\n",
        "        return self.length * self.width\n",
        "\n",
        "circle = Circle(5)\n",
        "rectangle = Rectangle(4, 6)\n",
        "print(circle.area())\n",
        "print(rectangle.area())"
      ]
    },
    {
      "cell_type": "code",
      "execution_count": null,
      "metadata": {
        "colab": {
          "base_uri": "https://localhost:8080/",
          "height": 35
        },
        "id": "ONlMOCNjT8Py",
        "outputId": "80ad4a98-94c1-4632-f928-b07a1b446b53"
      },
      "outputs": [
        {
          "data": {
            "application/vnd.google.colaboratory.intrinsic+json": {
              "type": "string"
            },
            "text/plain": [
              "'eletric'"
            ]
          },
          "execution_count": 11,
          "metadata": {},
          "output_type": "execute_result"
        }
      ],
      "source": [
        "# 3.\n",
        "class Car:\n",
        "    def start():\n",
        "        print(\"car start>>>>.......\")\n",
        "\n",
        "    def stop():\n",
        "        print(\"car stoped>>>>......\")\n",
        "\n",
        "class Toyotacar(Car):\n",
        "    def __init__(self, brand):\n",
        "        self.brand = brand\n",
        "\n",
        "class Fortuner(Toyotacar):\n",
        "    def __init__(self, type):\n",
        "        self.type = type\n",
        "\n",
        "car1 = Fortuner(\"eletric\")\n",
        "car1.type\n",
        "\n"
      ]
    },
    {
      "cell_type": "code",
      "execution_count": null,
      "metadata": {
        "colab": {
          "base_uri": "https://localhost:8080/"
        },
        "id": "2ltyx1pxWLUp",
        "outputId": "dc52d25c-0ae4-45a8-cfcd-fd37f037e718"
      },
      "outputs": [
        {
          "name": "stdout",
          "output_type": "stream",
          "text": [
            "bird is flying\n",
            "sparrow flies high\n",
            "penguin can't fly\n"
          ]
        }
      ],
      "source": [
        "# 4.\n",
        "class Brid:\n",
        "    def fly(self):\n",
        "        print(\"bird is flying\")\n",
        "\n",
        "class Sparrow(Brid):\n",
        "    def fly(self):\n",
        "        print(\"sparrow flies high\")\n",
        "\n",
        "class penguin(Brid):\n",
        "    def fly(self):\n",
        "        print(\"penguin can't fly\")\n",
        "\n",
        "Brid().fly()\n",
        "Sparrow().fly()\n",
        "penguin().fly()"
      ]
    },
    {
      "cell_type": "code",
      "execution_count": null,
      "metadata": {
        "colab": {
          "base_uri": "https://localhost:8080/"
        },
        "id": "AOO19T9VXtui",
        "outputId": "e25ecae1-4eed-44d9-e97e-fcb05cf59591"
      },
      "outputs": [
        {
          "name": "stdout",
          "output_type": "stream",
          "text": [
            "500\n"
          ]
        }
      ],
      "source": [
        "# 5.\n",
        "class BankAccount:\n",
        "    def __init__(self):\n",
        "        self.__balance = 0\n",
        "\n",
        "    def deposit(self, amount):\n",
        "        self.__balance += amount\n",
        "\n",
        "    def withdraw(self, amount):\n",
        "        if amount <= self.__balance:\n",
        "            self.__balance -= amount\n",
        "        else:\n",
        "            print(\"insufficient balance\")\n",
        "\n",
        "    def check_balance(self):\n",
        "            return self.__balance\n",
        "\n",
        "acc = BankAccount()\n",
        "acc.deposit(1000)\n",
        "acc.withdraw(500)\n",
        "print(acc.check_balance())"
      ]
    },
    {
      "cell_type": "code",
      "execution_count": null,
      "metadata": {
        "colab": {
          "base_uri": "https://localhost:8080/"
        },
        "id": "MMge1qfrbPmS",
        "outputId": "5c60685a-018d-46e7-f1d6-788552cd83c8"
      },
      "outputs": [
        {
          "name": "stdout",
          "output_type": "stream",
          "text": [
            "playing guitar\n",
            "playing piano\n"
          ]
        }
      ],
      "source": [
        "# 6.\n",
        "class Instrument:\n",
        "    def play(slef):\n",
        "        print(\"playing instrument\")\n",
        "\n",
        "class Guitar(Instrument):\n",
        "    def play(slef):\n",
        "        print(\"playing guitar\")\n",
        "\n",
        "class Piano(Instrument):\n",
        "    def play(self):\n",
        "        print(\"playing piano\")\n",
        "\n",
        "for inst in (Guitar(), Piano()):\n",
        "    inst.play()"
      ]
    },
    {
      "cell_type": "code",
      "execution_count": null,
      "metadata": {
        "colab": {
          "base_uri": "https://localhost:8080/"
        },
        "id": "AiShaCkreSzt",
        "outputId": "c40d3742-54b0-405e-d31b-20fb43559494"
      },
      "outputs": [
        {
          "name": "stdout",
          "output_type": "stream",
          "text": [
            "8\n",
            "42\n"
          ]
        }
      ],
      "source": [
        "# 7.\n",
        "class MathOpeations:\n",
        "    @classmethod\n",
        "    def add_numbers(cls, a, b):\n",
        "        return a + b\n",
        "\n",
        "    @staticmethod\n",
        "    def multiply_numbers(a, b):\n",
        "        return a * b\n",
        "\n",
        "print(MathOpeations.add_numbers(3, 5))\n",
        "print(MathOpeations.multiply_numbers(6,7))"
      ]
    },
    {
      "cell_type": "code",
      "execution_count": null,
      "metadata": {
        "colab": {
          "base_uri": "https://localhost:8080/"
        },
        "id": "W4xNFPNT6iV1",
        "outputId": "4c9dc139-ab79-44bd-b08c-5f30aab64d05"
      },
      "outputs": [
        {
          "name": "stdout",
          "output_type": "stream",
          "text": [
            "2\n"
          ]
        }
      ],
      "source": [
        "# 8.\n",
        "class Person:\n",
        "    count = 0\n",
        "\n",
        "    def __init__(self):\n",
        "        Person.count += 1\n",
        "\n",
        "    @classmethod\n",
        "    def total_person(cls):\n",
        "     return cls.count\n",
        "\n",
        "p1 = Person()\n",
        "p2 = Person()\n",
        "print(Person.total_person())"
      ]
    },
    {
      "cell_type": "code",
      "execution_count": null,
      "metadata": {
        "colab": {
          "base_uri": "https://localhost:8080/"
        },
        "id": "W5bP_NsV7Qu5",
        "outputId": "08684766-1218-49cc-bbb0-2f063028416f"
      },
      "outputs": [
        {
          "name": "stdout",
          "output_type": "stream",
          "text": [
            "3/4\n"
          ]
        }
      ],
      "source": [
        "# 9.\n",
        "class Fraction:\n",
        "    def __init__(self, numerator, denominator):\n",
        "        self.numerator = numerator\n",
        "        self.denominator = denominator\n",
        "\n",
        "    def __str__(self):\n",
        "        return f\"{self.numerator}/{self.denominator}\"\n",
        "f = Fraction(3, 4)\n",
        "print(f)"
      ]
    },
    {
      "cell_type": "code",
      "execution_count": null,
      "metadata": {
        "colab": {
          "base_uri": "https://localhost:8080/"
        },
        "id": "lZcHO8jv9CXx",
        "outputId": "68903dce-d413-4705-a0ff-abe0a36e7ac9"
      },
      "outputs": [
        {
          "name": "stdout",
          "output_type": "stream",
          "text": [
            "(4,6)\n"
          ]
        }
      ],
      "source": [
        "# 10.\n",
        "class Vector:\n",
        "    def __init__(self, x, y):\n",
        "        self.x = x\n",
        "        self.y = y\n",
        "    def __add__(self, other):\n",
        "        return Vector(self.x + other.x,self.y + other.y)\n",
        "    def __str__(self):\n",
        "        return f\"({self.x},{self.y})\"\n",
        "\n",
        "v1 = Vector(1,2)\n",
        "v2 = Vector(3,4)\n",
        "print(v1 + v2)"
      ]
    },
    {
      "cell_type": "code",
      "execution_count": null,
      "metadata": {
        "colab": {
          "base_uri": "https://localhost:8080/"
        },
        "id": "pvpSUV8A9KdQ",
        "outputId": "d807f8ce-6a27-4d15-dd3e-0cf5c9959796"
      },
      "outputs": [
        {
          "name": "stdout",
          "output_type": "stream",
          "text": [
            "Hello, my name is pooja and i am 22\n"
          ]
        }
      ],
      "source": [
        "# 11.\n",
        "class Person:\n",
        "    def __init__(self, name, age):\n",
        "        self.name = name\n",
        "        self.age = age\n",
        "    def greet(self):\n",
        "        print(f\"Hello, my name is {self.name} and i am {self.age}\")\n",
        "\n",
        "p = Person(\"pooja\",22)\n",
        "p.greet()"
      ]
    },
    {
      "cell_type": "code",
      "execution_count": null,
      "metadata": {
        "colab": {
          "base_uri": "https://localhost:8080/"
        },
        "id": "S_yZMlMU-tuo",
        "outputId": "9a8d690b-4484-45d8-bd40-8947706a89ad"
      },
      "outputs": [
        {
          "name": "stdout",
          "output_type": "stream",
          "text": [
            "90.0\n"
          ]
        }
      ],
      "source": [
        "# 12.\n",
        "class Student:\n",
        "    def __init__(self, name, grades):\n",
        "        self.name = name\n",
        "        self.grades = grades\n",
        "\n",
        "    def average_grade(self):\n",
        "        return sum(self.grades) / len(self.grades)\n",
        "\n",
        "s = Student(\"Bob\", [85, 90, 95])\n",
        "print(s.average_grade())"
      ]
    },
    {
      "cell_type": "code",
      "execution_count": null,
      "metadata": {
        "colab": {
          "background_save": true,
          "base_uri": "https://localhost:8080/"
        },
        "id": "4PfD35DpBarB",
        "outputId": "b5fcfb93-c6d9-4342-96b2-75b54f1a6ab5"
      },
      "outputs": [
        {
          "name": "stdout",
          "output_type": "stream",
          "text": [
            "20\n"
          ]
        }
      ],
      "source": [
        "# 13.\n",
        "class Rectangle:\n",
        "    def set_dimensions(self, length, width):\n",
        "        self.length = length\n",
        "        self.width = width\n",
        "    def area(self):\n",
        "        return self.length * self.width\n",
        "\n",
        "r = Rectangle()\n",
        "r.set_dimensions(5, 4)\n",
        "print(r.area())"
      ]
    },
    {
      "cell_type": "code",
      "execution_count": 16,
      "metadata": {
        "id": "uSIDqy-JBsHW",
        "colab": {
          "base_uri": "https://localhost:8080/"
        },
        "outputId": "41e142e7-fd84-413d-ad3b-71a4c9cb58f9"
      },
      "outputs": [
        {
          "output_type": "stream",
          "name": "stdout",
          "text": [
            "800\n",
            "1300\n"
          ]
        }
      ],
      "source": [
        "# 14.\n",
        "class Employee:\n",
        "    def __init__(self, hours_worked, hourly_rate):\n",
        "        self.hours_worked = hours_worked\n",
        "        self.hourly_rate = hourly_rate\n",
        "\n",
        "    def calculate_salary(self):\n",
        "        return self.hours_worked * self.hourly_rate\n",
        "\n",
        "class Manager(Employee):\n",
        "    def __init__(self, hours_worked, hourly_rate, bouns):\n",
        "        super().__init__(hours_worked, hourly_rate)\n",
        "        self.bouns = bouns\n",
        "\n",
        "    def calculate_salary(self):\n",
        "        return super().calculate_salary() + self.bouns\n",
        "\n",
        "e = Employee(40, 20)\n",
        "m = Manager(40, 20, 500)\n",
        "print(e.calculate_salary())\n",
        "print(m.calculate_salary())"
      ]
    },
    {
      "cell_type": "code",
      "source": [
        "# 15.\n",
        "class Product:\n",
        "    def __init__(self, name , price, quantity):\n",
        "        self.name = name\n",
        "        self.price = price\n",
        "        self.quantity = quantity\n",
        "\n",
        "    def total_price(self):\n",
        "        return self.price * self.quantity\n",
        "\n",
        "p = Product(\"laptop\", 1000, 100)\n",
        "print(p.total_price())"
      ],
      "metadata": {
        "colab": {
          "base_uri": "https://localhost:8080/"
        },
        "id": "Es4u75c5ErJG",
        "outputId": "8b756b7d-ee2b-4462-e222-46fec6848474"
      },
      "execution_count": 20,
      "outputs": [
        {
          "output_type": "stream",
          "name": "stdout",
          "text": [
            "100000\n"
          ]
        }
      ]
    },
    {
      "cell_type": "code",
      "source": [
        "# 16.\n",
        "from abc import ABC, abstractclassmethod\n",
        "\n",
        "class Animal(ABC):\n",
        "    @abstractclassmethod\n",
        "    def sound(self):\n",
        "        pass\n",
        "class Cow(Animal):\n",
        "    def sound(self):\n",
        "        return \"Moo\"\n",
        "\n",
        "class Sheep(Animal):\n",
        "    def sound(self):\n",
        "        return \"Baa\"\n",
        "\n",
        "c = Cow()\n",
        "s = Sheep()\n",
        "print(c.sound())\n",
        "print(s.sound())"
      ],
      "metadata": {
        "colab": {
          "base_uri": "https://localhost:8080/"
        },
        "id": "PlvNkimeGq8W",
        "outputId": "98fdd0db-4aff-4766-96d8-c82564cc5327"
      },
      "execution_count": 22,
      "outputs": [
        {
          "output_type": "stream",
          "name": "stdout",
          "text": [
            "Moo\n",
            "Baa\n"
          ]
        }
      ]
    },
    {
      "cell_type": "code",
      "source": [
        "# 17.\n",
        "class Book:\n",
        "    def __init__(self, title, author,year_published):\n",
        "        self.title = title\n",
        "        self.author = author\n",
        "        self.year_published = year_published\n",
        "\n",
        "    def get_book_info(self):\n",
        "        return f\"'{self.title}'by{self.author}, published in {self.year_published}\"\n",
        "\n",
        "b = Book(\"1984\",\"George Orwell\", 1949)\n",
        "print(b.get_book_info())"
      ],
      "metadata": {
        "colab": {
          "base_uri": "https://localhost:8080/"
        },
        "id": "5f1Z5-2hI0LB",
        "outputId": "c7e34d33-7fdb-4d9a-a4ed-3becc5c888db"
      },
      "execution_count": 23,
      "outputs": [
        {
          "output_type": "stream",
          "name": "stdout",
          "text": [
            "'1984'byGeorge Orwell, published in 1949\n"
          ]
        }
      ]
    },
    {
      "cell_type": "code",
      "source": [
        "# 18.\n",
        "class House:\n",
        "    def __init__(self, address, price):\n",
        "        self.address = address\n",
        "        self.price = price\n",
        "class Mansion(House):\n",
        "    def __init__(self, address,price, number_of_rooms):\n",
        "        super().__init__(address, price)\n",
        "        self.number_of_rooms = number_of_rooms\n",
        "\n",
        "h = House(\"123 street\", 500000)\n",
        "m = Mansion(\"456 Avenue\", 20000000, 10)\n",
        "print(m.address, m.price, m.number_of_rooms)"
      ],
      "metadata": {
        "colab": {
          "base_uri": "https://localhost:8080/"
        },
        "id": "5OofHZ3iMRff",
        "outputId": "f082bd34-a492-4ea1-bf38-5f5f52560a51"
      },
      "execution_count": 25,
      "outputs": [
        {
          "output_type": "stream",
          "name": "stdout",
          "text": [
            "456 Avenue 20000000 10\n"
          ]
        }
      ]
    }
  ],
  "metadata": {
    "colab": {
      "provenance": []
    },
    "kernelspec": {
      "display_name": "Python 3",
      "name": "python3"
    },
    "language_info": {
      "name": "python"
    }
  },
  "nbformat": 4,
  "nbformat_minor": 0
}